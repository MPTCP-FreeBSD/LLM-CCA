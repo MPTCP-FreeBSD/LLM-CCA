{
 "cells": [
  {
   "cell_type": "code",
   "execution_count": 4,
   "metadata": {},
   "outputs": [
    {
     "name": "stdout",
     "output_type": "stream",
     "text": [
      "conv2 torch.Size([1, 64, 7, 7])\n",
      "fc1 torch.Size([1, 128])\n",
      "fc2 torch.Size([1, 10])\n",
      "tensor([[-0.1828, -0.0426, -0.0454, -0.1468,  0.0593, -0.1509, -0.1563,  0.0225,\n",
      "         -0.0305, -0.0259]], grad_fn=<AddmmBackward0>)\n"
     ]
    }
   ],
   "source": [
    "import torch\n",
    "import torch.nn as nn\n",
    "import torch.nn.functional as F\n",
    "\n",
    "class SimpleCNN(nn.Module):\n",
    "    def __init__(self):\n",
    "        super(SimpleCNN, self).__init__()\n",
    "        self.conv1 = nn.Conv2d(in_channels=1, out_channels=32, kernel_size=3, stride=1, padding=1)\n",
    "        self.pool = nn.MaxPool2d(kernel_size=2, stride=2, padding=0)\n",
    "        self.conv2 = nn.Conv2d(32, 64, 3, 1, 1)\n",
    "        self.fc1 = nn.Linear(64 * 7 * 7, 128)  # Adjust input size based on your input images\n",
    "        self.fc2 = nn.Linear(128, 10)  # Assuming 10 output classes for classification\n",
    "\n",
    "    def forward(self, x):\n",
    "        x = self.pool(F.relu(self.conv1(x)))\n",
    "        x = self.pool(F.relu(self.conv2(x)))\n",
    "        print(\"conv2\",x.shape)\n",
    "        x = x.view(-1, 64 * 7 * 7)  # Flatten the feature maps\n",
    "        x = F.relu(self.fc1(x))\n",
    "        print(\"fc1\",x.shape)\n",
    "        x = self.fc2(x)\n",
    "        print(\"fc2\",x.shape)\n",
    "        return x\n",
    "\n",
    "# Example usage:\n",
    "model = SimpleCNN()\n",
    "input_tensor = torch.randn(1, 1, 28, 28)  # Example input (batch size of 1, 1 channel, 28x28 image)\n",
    "output = model(input_tensor)\n",
    "print(output)\n"
   ]
  }
 ],
 "metadata": {
  "kernelspec": {
   "display_name": "urllc",
   "language": "python",
   "name": "python3"
  },
  "language_info": {
   "codemirror_mode": {
    "name": "ipython",
    "version": 3
   },
   "file_extension": ".py",
   "mimetype": "text/x-python",
   "name": "python",
   "nbconvert_exporter": "python",
   "pygments_lexer": "ipython3",
   "version": "3.8.19"
  }
 },
 "nbformat": 4,
 "nbformat_minor": 2
}
